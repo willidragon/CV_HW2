{
 "cells": [
  {
   "cell_type": "markdown",
   "id": "e41ff144",
   "metadata": {},
   "source": [
    "# Model Training and Validation with PyTorch\n",
    "\n",
    "This notebook demonstrates the training and validation of a ResNet50 model on a custom dataset with and without random erasing augmentation.\n"
   ]
  },
  {
   "cell_type": "code",
   "execution_count": null,
   "id": "df82c142",
   "metadata": {},
   "outputs": [],
   "source": [
    "import torch\n",
    "import torchvision\n",
    "import torchvision.transforms as transforms\n",
    "import torchvision.models as models\n",
    "import torch.optim as optim\n",
    "import torch.nn as nn\n",
    "from torch.utils.data import DataLoader\n",
    "from sklearn.metrics import accuracy_score\n",
    "import matplotlib.pyplot as plt\n",
    "import os\n",
    "import copy"
   ]
  },
  {
   "cell_type": "markdown",
   "id": "15101cf8",
   "metadata": {},
   "source": [
    "## Data Preparation\n",
    "\n",
    "Loading datasets, applying transformations, and setting up data loaders.\n"
   ]
  },
  {
   "cell_type": "code",
   "execution_count": null,
   "id": "0608e2bd",
   "metadata": {},
   "outputs": [],
   "source": [
    "# Data Transforms\n",
    "data_transforms = {\n",
    "    'train_with_erasing': transforms.Compose([\n",
    "        transforms.Resize(224),\n",
    "        transforms.CenterCrop(224),\n",
    "        transforms.RandomHorizontalFlip(),\n",
    "        transforms.RandomVerticalFlip(),\n",
    "        transforms.ToTensor(),\n",
    "        transforms.RandomErasing(),\n",
    "        transforms.Normalize(mean=[0.485, 0.456, 0.406], std=[0.229, 0.224, 0.225]),\n",
    "    ]),\n",
    "    'train_without_erasing': transforms.Compose([\n",
    "        transforms.Resize(224),\n",
    "        transforms.CenterCrop(224),\n",
    "        transforms.RandomHorizontalFlip(),\n",
    "        transforms.RandomVerticalFlip(),\n",
    "        transforms.ToTensor(),\n",
    "        transforms.Normalize(mean=[0.485, 0.456, 0.406], std=[0.229, 0.224, 0.225]),\n",
    "    ]),\n",
    "    'val': transforms.Compose([\n",
    "        transforms.Resize(224),\n",
    "        transforms.CenterCrop(224),\n",
    "        transforms.ToTensor(),\n",
    "        transforms.Normalize(mean=[0.485, 0.456, 0.406], std=[0.229, 0.224, 0.225]),\n",
    "    ]),\n",
    "}\n",
    "\n",
    "# Dataset Paths\n",
    "dataset_paths = {\n",
    "    'train_with_erasing': './dataset/training_dataset',\n",
    "    'train_without_erasing': './dataset/training_dataset',\n",
    "    'val': './dataset/validation_dataset',\n",
    "}\n",
    "\n",
    "# Load Datasets\n",
    "image_datasets = {\n",
    "    x: torchvision.datasets.ImageFolder(dataset_paths[x], data_transforms[x]) \n",
    "    for x in ['train_with_erasing', 'train_without_erasing', 'val']\n",
    "}\n",
    "\n",
    "# Data Loaders\n",
    "dataloaders = {\n",
    "    x: torch.utils.data.DataLoader(image_datasets[x], batch_size=4, shuffle=True) \n",
    "    for x in ['train_with_erasing', 'train_without_erasing', 'val']\n",
    "}"
   ]
  },
  {
   "cell_type": "markdown",
   "id": "eb9a9b09",
   "metadata": {},
   "source": [
    "## Initialize Models\n",
    "\n",
    "Initializing ResNet50 models for training with and without random erasing.\n"
   ]
  },
  {
   "cell_type": "code",
   "execution_count": null,
   "id": "0978c590",
   "metadata": {},
   "outputs": [],
   "source": [
    "# Initialize Models\n",
    "model_with_erasing = models.resnet50(pretrained=True)\n",
    "model_with_erasing.fc = nn.Linear(model_with_erasing.fc.in_features, 2)\n",
    "\n",
    "model_without_erasing = models.resnet50(pretrained=True)\n",
    "model_without_erasing.fc = nn.Linear(model_without_erasing.fc.in_features, 2)\n",
    "\n",
    "# Define Loss Function and Optimizer\n",
    "criterion = nn.CrossEntropyLoss()\n",
    "optimizer_with_erasing = optim.SGD(model_with_erasing.parameters(), lr=0.001, momentum=0.9)\n",
    "optimizer_without_erasing = optim.SGD(model_without_erasing.parameters(), lr=0.001, momentum=0.9)"
   ]
  },
  {
   "cell_type": "markdown",
   "id": "d411a498",
   "metadata": {},
   "source": [
    "## Model Training\n",
    "\n",
    "Defining the training loop and training both models.\n"
   ]
  },
  {
   "cell_type": "code",
   "execution_count": null,
   "id": "dea977fd",
   "metadata": {},
   "outputs": [],
   "source": [
    "def train_model(model, dataloader, optimizer, device, num_epochs=30):\n",
    "    best_acc = 0.0\n",
    "    for epoch in range(num_epochs):\n",
    "        model.train()\n",
    "        running_loss = 0.0\n",
    "        running_corrects = 0\n",
    "        \n",
    "        for inputs, labels in dataloader['train_with_erasing']:\n",
    "            inputs, labels = inputs.to(device), labels.to(device)\n",
    "            optimizer.zero_grad()\n",
    "            \n",
    "            outputs = model(inputs)\n",
    "            loss = criterion(outputs, labels)\n",
    "            loss.backward()\n",
    "            optimizer.step()\n",
    "            \n",
    "            _, preds = torch.max(outputs, 1)\n",
    "            running_loss += loss.item() * inputs.size(0)\n",
    "            running_corrects += torch.sum(preds == labels.data)\n",
    "        \n",
    "        epoch_loss = running_loss / len(dataloader['train_with_erasing'].dataset)\n",
    "        epoch_acc = running_corrects.double() / len(dataloader['train_with_erasing'].dataset)\n",
    "        \n",
    "        print(f'Epoch {epoch+1}/{num_epochs} - Loss: {epoch_loss:.4f} Acc: {epoch_acc:.4f}')\n",
    "        \n",
    "        if epoch_acc > best_acc:\n",
    "            best_acc = epoch_acc\n",
    "            best_model_wts = copy.deepcopy(model.state_dict())\n",
    "\n",
    "    model.load_state_dict(best_model_wts)\n",
    "    return model\n",
    "\n",
    "def validate_model(model, dataloader,device):\n",
    "    model.eval()\n",
    "    all_preds = []\n",
    "    all_labels = []\n",
    "    with torch.no_grad():\n",
    "        for inputs, labels in dataloader['val']:\n",
    "            inputs, labels = inputs.to(device), labels.to(device)\n",
    "            outputs = model(inputs)\n",
    "            _, preds = torch.max(outputs, 1)\n",
    "            all_preds.extend(preds.cpu().numpy())\n",
    "            all_labels.extend(labels.cpu().numpy())\n",
    "    \n",
    "    accuracy = accuracy_score(all_labels, all_preds)\n",
    "    return accuracy\n",
    "\n",
    "device = torch.device(\"cuda:0\" if torch.cuda.is_available() else \"cpu\")\n",
    "torch.cuda.empty_cache()\n",
    "torch.cuda.memory_summary(device=None, abbreviated=False)\n",
    "\n",
    "\n",
    "model_with_erasing = train_model(model_with_erasing.to(device), dataloaders, optimizer_with_erasing, device)\n",
    "model_without_erasing = train_model(model_without_erasing.to(device), dataloaders, optimizer_without_erasing, device)"
   ]
  },
  {
   "cell_type": "markdown",
   "id": "5f938c7d",
   "metadata": {},
   "source": [
    "## Model Validation\n",
    "\n",
    "Validating both models and comparing their performance.\n"
   ]
  },
  {
   "cell_type": "code",
   "execution_count": null,
   "id": "c286519e",
   "metadata": {},
   "outputs": [],
   "source": [
    "accuracy_with_erasing = validate_model(model_with_erasing, dataloaders['val'])\n",
    "accuracy_without_erasing = validate_model(model_without_erasing, dataloaders['val'])"
   ]
  },
  {
   "cell_type": "markdown",
   "id": "2555bc49",
   "metadata": {},
   "source": [
    "## Plotting Comparison\n",
    "\n",
    "Plotting the validation accuracies of both models for comparison.\n"
   ]
  },
  {
   "cell_type": "code",
   "execution_count": null,
   "id": "aea0be5f",
   "metadata": {},
   "outputs": [],
   "source": [
    "plt.bar(['With Erasing', 'Without Erasing'], [accuracy_with_erasing, accuracy_without_erasing])\n",
    "plt.xlabel('Model')\n",
    "plt.ylabel('Validation Accuracy')\n",
    "plt.title('Model Comparison')\n",
    "plt.savefig('model_comparison.png')\n",
    "plt.show()"
   ]
  }
 ],
 "metadata": {
  "language_info": {
   "name": "python"
  }
 },
 "nbformat": 4,
 "nbformat_minor": 5
}
